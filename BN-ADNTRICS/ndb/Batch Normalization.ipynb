{
 "cells": [
  {
   "cell_type": "markdown",
   "source": [
    "- [Batch Normalization: Accelerating Deep Network Training by Reducing Internal Covariate Shift](https://arxiv.org/abs/1502.03167)\r\n",
    "- Code: [ndb's Batch Normalization](https://github.com/ndb796/Deep-Learning-Paper-Review-and-Practice/blob/master/code_practices/Batch_Normalization_Evaluation_(with_Residual_Connection).ipynb)"
   ],
   "metadata": {}
  },
  {
   "cell_type": "markdown",
   "source": [
    "Batch Normalization의 효과를 관찰하고자 당시 각광받던 ResNet을 이용하였다. 그리고 결과만 확인할 용도로 적당히 작게 만드신 듯하다."
   ],
   "metadata": {}
  },
  {
   "cell_type": "code",
   "execution_count": 1,
   "source": [
    "import os\r\n",
    "\r\n",
    "# about data\r\n",
    "import numpy as np\r\n",
    "from torchvision.datasets import CIFAR10\r\n",
    "from torch.utils.data import DataLoader\r\n",
    "from torchvision.transforms import Compose, RandomCrop, RandomHorizontalFlip, ToTensor\r\n",
    "\r\n",
    "# model\r\n",
    "import torch\r\n",
    "from torch import optim\r\n",
    "import torch.nn.functional as F\r\n",
    "from torch.backends import cudnn\r\n",
    "from torch.nn import Sequential, Module, Conv2d, BatchNorm2d, Linear, CrossEntropyLoss\r\n",
    "\r\n",
    "# visualization\r\n",
    "import matplotlib.pyplot as plt"
   ],
   "outputs": [],
   "metadata": {}
  },
  {
   "cell_type": "code",
   "execution_count": 2,
   "source": [
    "print(torch.__version__)"
   ],
   "outputs": [
    {
     "output_type": "stream",
     "name": "stdout",
     "text": [
      "1.9.1+cu111\n"
     ]
    }
   ],
   "metadata": {}
  },
  {
   "cell_type": "markdown",
   "source": [
    "### simple block부터 resnet class 정의"
   ],
   "metadata": {}
  },
  {
   "cell_type": "code",
   "execution_count": 3,
   "source": [
    "class BasicBlock(Module):\r\n",
    "    def __init__(self, in_planes, planes, with_BN, stride=1):\r\n",
    "        super(BasicBlock, self).__init__()\r\n",
    "        self.with_BN = with_BN\r\n",
    "\r\n",
    "        # 1 layer, 3X3 size에 1 padding이니까 stride에 따라 다르지만, 일단 원본이랑 같은 크기\r\n",
    "        self.conv1 = Conv2d(in_planes, planes, kernel_size=3, stride=stride, padding=1, bias=False)\r\n",
    "        if with_BN:\r\n",
    "            self.bn1 = BatchNorm2d(planes)\r\n",
    "\r\n",
    "        # 2 layer, 크기 유지\r\n",
    "        self.conv2 = Conv2d(planes, planes, kernel_size=3, stride=1, padding=1, bias=False)\r\n",
    "        if with_BN:\r\n",
    "            self.bn2 = BatchNorm2d(planes)\r\n",
    "\r\n",
    "        self.shortcut = Sequential()\r\n",
    "        if stride != 1: # stride가 1이 아니면 skip connection이 안 되지 않나? 그래서 identity mapping이 아닌 경우라고 한 건가?\r\n",
    "            modules = [Conv2d(in_planes, planes, kernel_size=1, stride=stride, bias=False)]\r\n",
    "            if with_BN:\r\n",
    "                modules.append(BatchNorm2d(planes))\r\n",
    "            self.shortcut = Sequential(*modules)\r\n",
    "\r\n",
    "    def forward(self, x):\r\n",
    "        if self.with_BN:\r\n",
    "            out = F.relu(self.bn1(self.conv1(x)))\r\n",
    "            out = self.bn2(self.conv2(out))\r\n",
    "        else:\r\n",
    "            out = F.relu(self.conv1(x))\r\n",
    "            out = self.conv2(out)\r\n",
    "        out += self.shortcut(x)\r\n",
    "        out = F.relu(out)\r\n",
    "        return out"
   ],
   "outputs": [],
   "metadata": {}
  },
  {
   "cell_type": "code",
   "execution_count": 4,
   "source": [
    "class ResNet(Module):\r\n",
    "    def __init__(self, block, num_block, with_BN, num_classes=10):\r\n",
    "        super(ResNet, self).__init__()\r\n",
    "        self.in_planes = 64\r\n",
    "        self.with_BN = with_BN\r\n",
    "\r\n",
    "        self.conv1 = Conv2d(3, 64, kernel_size=3, stride=1, padding=1, bias=False)\r\n",
    "        if with_BN:\r\n",
    "            self.bn1 = BatchNorm2d(64)\r\n",
    "        self.layer1 = self._make_layer(block, 64, with_BN, num_block[0], stride=1)\r\n",
    "        self.layer2 = self._make_layer(block, 128, with_BN, num_block[1], stride=2)\r\n",
    "        self.layer3 = self._make_layer(block, 256, with_BN, num_block[2], stride=2)\r\n",
    "        self.layer4 = self._make_layer(block, 512, with_BN, num_block[3], stride=2)\r\n",
    "        self.linear = Linear(512, num_classes)\r\n",
    "\r\n",
    "    def _make_layer(self, block, planes, with_BN, num_block, stride):\r\n",
    "        strides = [stride] + [1] * (num_block - 1)\r\n",
    "        layers = []\r\n",
    "        for stride in strides:\r\n",
    "            layers.append(block(self.in_planes, planes, with_BN, stride))\r\n",
    "            self.in_planes = planes\r\n",
    "        return Sequential(*layers)\r\n",
    "\r\n",
    "    def forward(self, x):\r\n",
    "        if self.with_BN:\r\n",
    "            out = F.relu(self.bn1(self.conv1(x)))\r\n",
    "        else:\r\n",
    "            out = F.relu(self.conv1(x))\r\n",
    "        out = self.layer1(out)\r\n",
    "        out = self.layer2(out)\r\n",
    "        out = self.layer3(out)\r\n",
    "        out = self.layer4(out)\r\n",
    "        out = F.avg_pool2d(out, 4)\r\n",
    "        out = out.view(out.size(0), - 1) # flatten?\r\n",
    "        out = self.linear(out)\r\n",
    "        return out"
   ],
   "outputs": [],
   "metadata": {}
  },
  {
   "cell_type": "code",
   "execution_count": 5,
   "source": [
    "def ResNet18(with_BN):\r\n",
    "    return ResNet(BasicBlock, [2, 2, 2, 2], with_BN)"
   ],
   "outputs": [],
   "metadata": {}
  },
  {
   "cell_type": "markdown",
   "source": [
    "### CiFar10을 이용해보자?"
   ],
   "metadata": {}
  },
  {
   "cell_type": "code",
   "execution_count": 6,
   "source": [
    "transform_train = Compose([RandomCrop(32, padding=4), RandomHorizontalFlip(), ToTensor(),])\r\n",
    "transform_test = Compose([ToTensor(), ])"
   ],
   "outputs": [],
   "metadata": {}
  },
  {
   "cell_type": "code",
   "execution_count": 7,
   "source": [
    "train_datasets = CIFAR10(root=\"./data\", train=True, download=False, transform=transform_train) # download=True\r\n",
    "test_datasets = CIFAR10(root=\"./data\", train=False, download=False, transform=transform_test) # download=True"
   ],
   "outputs": [],
   "metadata": {}
  },
  {
   "cell_type": "code",
   "execution_count": 8,
   "source": [
    "train_loader = DataLoader(train_datasets, batch_size=128, shuffle=True, num_workers=4)\r\n",
    "test_loader = DataLoader(test_datasets, batch_size=100, shuffle=False, num_workers=4)"
   ],
   "outputs": [],
   "metadata": {}
  },
  {
   "cell_type": "markdown",
   "source": [
    "### 학습 정의"
   ],
   "metadata": {}
  },
  {
   "cell_type": "code",
   "execution_count": 9,
   "source": [
    "criterion = CrossEntropyLoss()"
   ],
   "outputs": [],
   "metadata": {}
  },
  {
   "cell_type": "code",
   "execution_count": 10,
   "source": [
    "def train(net, optimizer, epoch, step):\r\n",
    "    net.train()\r\n",
    "    total, correct = 0, 0\r\n",
    "    steps, losses = [], []\r\n",
    "\r\n",
    "    for _, (inputs, targets) in enumerate(train_loader):\r\n",
    "        inputs, targets = inputs.cuda(), targets.cuda()\r\n",
    "\r\n",
    "        optimizer.zero_grad()\r\n",
    "        outputs = net(inputs)\r\n",
    "        loss = criterion(outputs, targets)\r\n",
    "        loss.backward()\r\n",
    "        optimizer.step()\r\n",
    "\r\n",
    "        _, predicted = outputs.max(1)\r\n",
    "        correct += predicted.eq(targets).sum().item()\r\n",
    "        total += targets.size(0)\r\n",
    "\r\n",
    "        steps.append(step)\r\n",
    "        losses.append(loss.item())\r\n",
    "        step += 1\r\n",
    "    return correct / total, steps, losses"
   ],
   "outputs": [],
   "metadata": {}
  },
  {
   "cell_type": "code",
   "execution_count": 11,
   "source": [
    "def test(net, optimizer, epoch):\r\n",
    "    net.eval()\r\n",
    "    correct, total, loss = 0, 0, 0\r\n",
    "\r\n",
    "    for batch_idx, (inputs, targets) in enumerate(test_loader):\r\n",
    "        inputs, targets = inputs.cuda(), targets.cuda()\r\n",
    "\r\n",
    "        outputs = net(inputs)\r\n",
    "        loss += criterion(outputs, targets).item()\r\n",
    "\r\n",
    "        _, predicted = outputs.max(1)\r\n",
    "        correct += predicted.eq(targets).sum().item()\r\n",
    "        total += targets.size(0) # sum sample size\r\n",
    "    return correct / total, loss"
   ],
   "outputs": [],
   "metadata": {}
  },
  {
   "cell_type": "markdown",
   "source": [
    "## with BN, without BN 비교"
   ],
   "metadata": {}
  },
  {
   "cell_type": "markdown",
   "source": [
    "### without BN"
   ],
   "metadata": {}
  },
  {
   "cell_type": "code",
   "execution_count": 12,
   "source": [
    "learning_rate = 0.01\r\n",
    "\r\n",
    "net = ResNet18(with_BN=False).cuda()\r\n",
    "optimizer = optim.SGD(net.parameters(), lr=learning_rate, momentum=0.9, weight_decay=0.0002)\r\n",
    "\r\n",
    "total_params = sum(p.numel() for p in net.parameters() if p.requires_grad)\r\n",
    "print(\"trainable parameters: \", total_params)"
   ],
   "outputs": [
    {
     "output_type": "stream",
     "name": "stdout",
     "text": [
      "trainable parameters:  11164362\n"
     ]
    }
   ],
   "metadata": {}
  },
  {
   "cell_type": "code",
   "execution_count": 13,
   "source": [
    "without_steps = []\r\n",
    "without_train_accuracies = []\r\n",
    "without_train_losses = []\r\n",
    "\r\n",
    "without_test_accuracies = []\r\n",
    "without_test_losses = []\r\n",
    "\r\n",
    "epochs = 20\r\n",
    "for epoch in range(epochs):\r\n",
    "    print(f\"[ Epoch: {epoch} / {epochs}\")\r\n",
    "\r\n",
    "    train_accuracy, steps, train_losses = train(net, optimizer, epoch, len(without_steps))\r\n",
    "    without_train_accuracies.append(train_accuracy)\r\n",
    "    without_steps.extend(steps)\r\n",
    "    without_train_losses.extend(train_losses)\r\n",
    "    print(f\"Train accuracy = {train_accuracy * 100:.2f} / Train loss = {sum(train_losses)}\")\r\n",
    "\r\n",
    "    test_accuracy, test_loss = test(net, optimizer, epoch)\r\n",
    "    without_test_accuracies.append(test_accuracy)\r\n",
    "    without_test_losses.append(test_loss)\r\n",
    "    print(f\"Test accuracy = {test_accuracy * 100:.2f} / Test loss = {test_loss}\")"
   ],
   "outputs": [
    {
     "output_type": "stream",
     "name": "stdout",
     "text": [
      "[ Epoch: 0 / 20\n",
      "Train accuracy = 14.48 / Train loss = 867.5268923044205\n",
      "Test accuracy = 22.59 / Test loss = 202.39108037948608\n",
      "[ Epoch: 1 / 20\n",
      "Train accuracy = 27.30 / Train loss = 767.653090596199\n",
      "Test accuracy = 31.91 / Test loss = 181.9395912885666\n",
      "[ Epoch: 2 / 20\n",
      "Train accuracy = 34.22 / Train loss = 693.6105041503906\n",
      "Test accuracy = 38.85 / Test loss = 164.50764989852905\n",
      "[ Epoch: 3 / 20\n",
      "Train accuracy = 39.85 / Train loss = 640.2582837343216\n",
      "Test accuracy = 43.00 / Test loss = 154.3588466644287\n",
      "[ Epoch: 4 / 20\n",
      "Train accuracy = 43.70 / Train loss = 598.098522901535\n",
      "Test accuracy = 47.72 / Test loss = 142.4495882987976\n",
      "[ Epoch: 5 / 20\n",
      "Train accuracy = 47.56 / Train loss = 561.4950242042542\n",
      "Test accuracy = 51.08 / Test loss = 132.23502933979034\n",
      "[ Epoch: 6 / 20\n",
      "Train accuracy = 52.02 / Train loss = 519.058030962944\n",
      "Test accuracy = 54.67 / Test loss = 127.89752566814423\n",
      "[ Epoch: 7 / 20\n",
      "Train accuracy = 56.47 / Train loss = 477.16156405210495\n",
      "Test accuracy = 56.80 / Test loss = 119.27776974439621\n",
      "[ Epoch: 8 / 20\n",
      "Train accuracy = 59.99 / Train loss = 439.9080430865288\n",
      "Test accuracy = 61.72 / Test loss = 106.47012436389923\n",
      "[ Epoch: 9 / 20\n",
      "Train accuracy = 63.37 / Train loss = 406.3333405852318\n",
      "Test accuracy = 63.10 / Test loss = 101.11831855773926\n",
      "[ Epoch: 10 / 20\n",
      "Train accuracy = 65.73 / Train loss = 381.6178330183029\n",
      "Test accuracy = 68.83 / Test loss = 88.77167135477066\n",
      "[ Epoch: 11 / 20\n",
      "Train accuracy = 68.22 / Train loss = 354.72043216228485\n",
      "Test accuracy = 67.10 / Test loss = 97.10249680280685\n",
      "[ Epoch: 12 / 20\n",
      "Train accuracy = 70.38 / Train loss = 332.0602641105652\n",
      "Test accuracy = 71.48 / Test loss = 85.70697778463364\n",
      "[ Epoch: 13 / 20\n",
      "Train accuracy = 71.90 / Train loss = 314.6250932812691\n",
      "Test accuracy = 73.34 / Test loss = 77.41090267896652\n",
      "[ Epoch: 14 / 20\n",
      "Train accuracy = 73.76 / Train loss = 295.37249052524567\n",
      "Test accuracy = 71.62 / Test loss = 80.903269469738\n",
      "[ Epoch: 15 / 20\n",
      "Train accuracy = 74.93 / Train loss = 279.7640600204468\n",
      "Test accuracy = 76.21 / Test loss = 68.70296138525009\n",
      "[ Epoch: 16 / 20\n",
      "Train accuracy = 76.22 / Train loss = 267.12161698937416\n",
      "Test accuracy = 77.24 / Test loss = 66.62864273786545\n",
      "[ Epoch: 17 / 20\n",
      "Train accuracy = 77.61 / Train loss = 253.94117602705956\n",
      "Test accuracy = 76.66 / Test loss = 71.28775972127914\n",
      "[ Epoch: 18 / 20\n",
      "Train accuracy = 78.54 / Train loss = 241.5618937909603\n",
      "Test accuracy = 76.54 / Test loss = 69.21912634372711\n",
      "[ Epoch: 19 / 20\n",
      "Train accuracy = 80.06 / Train loss = 226.6962371468544\n",
      "Test accuracy = 77.56 / Test loss = 66.53363049030304\n"
     ]
    }
   ],
   "metadata": {}
  },
  {
   "cell_type": "markdown",
   "source": [
    "iteration이 반올림해서 8000, epoch도 반올림해서 20<br />\r\n",
    "(epoch step마다 train, test를 한 번씩 불렀으니까 test에 대한 epoch은 train과 같다.)\r\n",
    "\r\n",
    "1 epoch : len(train) / batch_size만큼 학습임을 감안했을 때<br />\r\n",
    "iteration = epoch * (len(train) / batch_size)<br />\r\n",
    "-> 8000 = 20 * len(train) / 128\r\n",
    "\r\n",
    "따라서 train의 크기는 51200으로 추측할 수 있다.<br />\r\n",
    "그런데 지금 쓰고자 하는 건 len(train) / batch_size이고, 이 값은 400이다."
   ],
   "metadata": {}
  },
  {
   "cell_type": "code",
   "execution_count": 14,
   "source": [
    "train_per_epoch = 400\r\n",
    "f, ax = plt.subplots(1, 3, figsize=(12, 3))\r\n",
    "\r\n",
    "ax[0].plot([i / train_per_epoch for i in without_steps], without_train_losses)\r\n",
    "ax[1].plot([i for i in range(len(without_test_losses))], without_test_losses)\r\n",
    "ax[2].plot(np.arange(len(without_test_accuracies)), without_test_accuracies)\r\n",
    "\r\n",
    "for i in range(len(ax)):\r\n",
    "    ax[i].set_xlabel(\"Epoch\")\r\n",
    "    if i < 2:\r\n",
    "        ax[i].set_ylabel(\"Loss\")\r\n",
    "    else:\r\n",
    "        ax[i].set_ylabel(\"Accuracy\")\r\n",
    "\r\n",
    "ax[0].set_title(\"Train Loss\")\r\n",
    "ax[1].set_title(\"Test Loss\")\r\n",
    "ax[2].set_title(\"Test Accuracy\")\r\n",
    "\r\n",
    "plt.subplots_adjust(wspace=.3)\r\n",
    "plt.show()"
   ],
   "outputs": [
    {
     "output_type": "display_data",
     "data": {
      "image/png": "[encoded data removed]",
      "text/plain": [
       "<Figure size 864x216 with 3 Axes>"
      ]
     },
     "metadata": {
      "needs_background": "light"
     }
    }
   ],
   "metadata": {}
  },
  {
   "cell_type": "markdown",
   "source": [
    "왜 Train loss랑 test loss를 한 번에 안 그렸는지 단박에 알겠네.<br />\r\n",
    "validation처럼 train에 영향을 준 게 아니라서 그런지 loss의 분포 위치가 다르구나."
   ],
   "metadata": {}
  },
  {
   "cell_type": "markdown",
   "source": [
    "### with BN"
   ],
   "metadata": {}
  },
  {
   "cell_type": "code",
   "execution_count": 15,
   "source": [
    "# learning_rate = 0.01\r\n",
    "\r\n",
    "net = ResNet18(with_BN=True).cuda()\r\n",
    "optimizer = optim.SGD(net.parameters(), lr=learning_rate, momentum=0.9, weight_decay=0.0002)\r\n",
    "\r\n",
    "total_params = sum(p.numel() for p in net.parameters() if p.requires_grad)\r\n",
    "print(\"trainable parameters: \", total_params)"
   ],
   "outputs": [
    {
     "output_type": "stream",
     "name": "stdout",
     "text": [
      "trainable parameters:  11173962\n"
     ]
    }
   ],
   "metadata": {}
  },
  {
   "cell_type": "code",
   "execution_count": 16,
   "source": [
    "with_steps = []\r\n",
    "with_train_accuracies = []\r\n",
    "with_train_losses = []\r\n",
    "\r\n",
    "with_test_accuracies = []\r\n",
    "with_test_losses = []\r\n",
    "\r\n",
    "epochs = 20\r\n",
    "for epoch in range(epochs):\r\n",
    "    print(f\"[ Epoch: {epoch} / {epochs}\")\r\n",
    "\r\n",
    "    train_accuracy, steps, train_losses = train(net, optimizer, epoch, len(with_steps))\r\n",
    "    with_train_accuracies.append(train_accuracy)\r\n",
    "    with_steps.extend(steps)\r\n",
    "    with_train_losses.extend(train_losses)\r\n",
    "    print(f\"Train accuracy = {train_accuracy * 100:.2f} / Train loss = {sum(train_losses)}\")\r\n",
    "\r\n",
    "    test_accuracy, test_loss = test(net, optimizer, epoch)\r\n",
    "    with_test_accuracies.append(test_accuracy)\r\n",
    "    with_test_losses.append(test_loss)\r\n",
    "    print(f\"Test accuracy = {test_accuracy * 100:.2f} / Test loss = {test_loss}\")"
   ],
   "outputs": [
    {
     "output_type": "stream",
     "name": "stdout",
     "text": [
      "[ Epoch: 0 / 20\n",
      "Train accuracy = 47.41 / Train loss = 561.6723639965057\n",
      "Test accuracy = 45.05 / Test loss = 172.07611680030823\n",
      "[ Epoch: 1 / 20\n",
      "Train accuracy = 67.08 / Train loss = 363.33552074432373\n",
      "Test accuracy = 70.70 / Test loss = 84.36143988370895\n",
      "[ Epoch: 2 / 20\n",
      "Train accuracy = 74.62 / Train loss = 280.07264626026154\n",
      "Test accuracy = 75.30 / Test loss = 73.86651957035065\n",
      "[ Epoch: 3 / 20\n",
      "Train accuracy = 79.17 / Train loss = 235.1066770851612\n",
      "Test accuracy = 78.35 / Test loss = 63.41222482919693\n",
      "[ Epoch: 4 / 20\n",
      "Train accuracy = 81.74 / Train loss = 203.6258000433445\n",
      "Test accuracy = 75.41 / Test loss = 73.6747952401638\n",
      "[ Epoch: 5 / 20\n",
      "Train accuracy = 83.59 / Train loss = 184.3923556804657\n",
      "Test accuracy = 80.49 / Test loss = 57.55788692831993\n",
      "[ Epoch: 6 / 20\n",
      "Train accuracy = 85.63 / Train loss = 162.91549035906792\n",
      "Test accuracy = 83.11 / Test loss = 52.27194072306156\n",
      "[ Epoch: 7 / 20\n",
      "Train accuracy = 86.59 / Train loss = 151.41146431863308\n",
      "Test accuracy = 83.52 / Test loss = 49.86400356888771\n",
      "[ Epoch: 8 / 20\n",
      "Train accuracy = 87.83 / Train loss = 138.33220186829567\n",
      "Test accuracy = 85.45 / Test loss = 44.35983967781067\n",
      "[ Epoch: 9 / 20\n",
      "Train accuracy = 88.73 / Train loss = 126.95062600076199\n",
      "Test accuracy = 83.04 / Test loss = 52.39643868803978\n",
      "[ Epoch: 10 / 20\n",
      "Train accuracy = 89.30 / Train loss = 120.10761612653732\n",
      "Test accuracy = 85.36 / Test loss = 45.04303269088268\n",
      "[ Epoch: 11 / 20\n",
      "Train accuracy = 90.37 / Train loss = 108.37663377076387\n",
      "Test accuracy = 85.61 / Test loss = 45.289787754416466\n",
      "[ Epoch: 12 / 20\n",
      "Train accuracy = 90.97 / Train loss = 102.16384433954954\n",
      "Test accuracy = 87.34 / Test loss = 39.03212632238865\n",
      "[ Epoch: 13 / 20\n",
      "Train accuracy = 91.23 / Train loss = 96.57506611198187\n",
      "Test accuracy = 86.88 / Test loss = 42.851895585656166\n",
      "[ Epoch: 14 / 20\n",
      "Train accuracy = 91.99 / Train loss = 89.8028185069561\n",
      "Test accuracy = 86.07 / Test loss = 42.771728843450546\n",
      "[ Epoch: 15 / 20\n",
      "Train accuracy = 92.45 / Train loss = 84.18333571404219\n",
      "Test accuracy = 87.75 / Test loss = 40.90688590705395\n",
      "[ Epoch: 16 / 20\n",
      "Train accuracy = 92.82 / Train loss = 79.45898429304361\n",
      "Test accuracy = 87.98 / Test loss = 40.59251420199871\n",
      "[ Epoch: 17 / 20\n",
      "Train accuracy = 93.12 / Train loss = 76.20571205765009\n",
      "Test accuracy = 88.04 / Test loss = 41.42954924702644\n",
      "[ Epoch: 18 / 20\n",
      "Train accuracy = 93.49 / Train loss = 72.19459327310324\n",
      "Test accuracy = 87.96 / Test loss = 40.82023108005524\n",
      "[ Epoch: 19 / 20\n",
      "Train accuracy = 93.88 / Train loss = 68.95796549320221\n",
      "Test accuracy = 88.36 / Test loss = 37.87957698106766\n"
     ]
    }
   ],
   "metadata": {}
  },
  {
   "cell_type": "code",
   "execution_count": 17,
   "source": [
    "train_per_epoch = 400\r\n",
    "f, ax = plt.subplots(1, 3, figsize=(12, 3))\r\n",
    "\r\n",
    "ax[0].plot([i / train_per_epoch for i in with_steps], with_train_losses)\r\n",
    "ax[1].plot([i for i in range(len(with_test_losses))], with_test_losses)\r\n",
    "ax[2].plot(np.arange(len(with_test_accuracies)), with_test_accuracies)\r\n",
    "\r\n",
    "for i in range(len(ax)):\r\n",
    "    ax[i].set_xlabel(\"Epoch\")\r\n",
    "    if i < 2:\r\n",
    "        ax[i].set_ylabel(\"Loss\")\r\n",
    "    else:\r\n",
    "        ax[i].set_ylabel(\"Accuracy\")\r\n",
    "\r\n",
    "ax[0].set_title(\"Train Loss\")\r\n",
    "ax[1].set_title(\"Test Loss\")\r\n",
    "ax[2].set_title(\"Test Accuracy\")\r\n",
    "\r\n",
    "plt.subplots_adjust(wspace=.3)\r\n",
    "plt.show()"
   ],
   "outputs": [
    {
     "output_type": "display_data",
     "data": {
      "image/png": "[encoded data removed]",
      "text/plain": [
       "<Figure size 864x216 with 3 Axes>"
      ]
     },
     "metadata": {
      "needs_background": "light"
     }
    }
   ],
   "metadata": {}
  },
  {
   "cell_type": "markdown",
   "source": [
    "### compare in graph"
   ],
   "metadata": {}
  },
  {
   "cell_type": "code",
   "execution_count": 18,
   "source": [
    "plt.plot(without_steps, without_train_losses, label=\"w/o BN\")\r\n",
    "plt.plot(with_steps, with_train_losses, label=\"w/ BN\")\r\n",
    "\r\n",
    "plt.legend(loc=\"best\")\r\n",
    "plt.xlabel(\"Step\")\r\n",
    "plt.ylabel(\"Loss\")\r\n",
    "plt.title(\"Train Loss\")\r\n",
    "\r\n",
    "plt.show()"
   ],
   "outputs": [
    {
     "output_type": "display_data",
     "data": {
      "image/png": "[encoded data removed]",
      "text/plain": [
       "<Figure size 432x288 with 1 Axes>"
      ]
     },
     "metadata": {
      "needs_background": "light"
     }
    }
   ],
   "metadata": {}
  },
  {
   "cell_type": "code",
   "execution_count": 19,
   "source": [
    "f, ax = plt.subplots(1, 2, figsize=(10, 3))\r\n",
    "\r\n",
    "ax[0].plot(np.arange(len(without_test_losses)), without_test_losses, label=\"w/o BN\")\r\n",
    "ax[0].plot(np.arange(len(with_test_losses)), with_test_losses, label=\"w/ BN\")\r\n",
    "\r\n",
    "ax[1].plot(np.arange(len(without_test_accuracies)), without_test_accuracies, label=\"w/o BN\")\r\n",
    "ax[1].plot(np.arange(len(with_test_accuracies)), with_test_accuracies, label=\"w/ BN\")\r\n",
    "\r\n",
    "for i in range(len(ax)):\r\n",
    "    ax[i].legend(loc=\"best\")\r\n",
    "    ax[i].set_xlabel(\"Epoch\")\r\n",
    "ax[0].set_ylabel(\"Loss\")\r\n",
    "ax[1].set_ylabel(\"Accuracy\")\r\n",
    "\r\n",
    "ax[0].set_title(\"Test Loss\")\r\n",
    "ax[1].set_title(\"Test Accuracy\")\r\n",
    "\r\n",
    "plt.show()"
   ],
   "outputs": [
    {
     "output_type": "display_data",
     "data": {
      "image/png": "[encoded data removed]",
      "text/plain": [
       "<Figure size 720x216 with 2 Axes>"
      ]
     },
     "metadata": {
      "needs_background": "light"
     }
    }
   ],
   "metadata": {}
  },
  {
   "cell_type": "markdown",
   "source": [
    "Batch Normalization이 있을 때 더 빠르게 학습하고, 더 낮은 loss를 보인다. Test 정확도도 높은데 Train의 noise라고 하긴 애매하지만, 그에 대한 과대적합을 피하고 보편적으로 학습하는데 도움이 되는 듯하다."
   ],
   "metadata": {}
  }
 ],
 "metadata": {
  "orig_nbformat": 4,
  "language_info": {
   "name": "python",
   "version": "3.8.8",
   "mimetype": "text/x-python",
   "codemirror_mode": {
    "name": "ipython",
    "version": 3
   },
   "pygments_lexer": "ipython3",
   "nbconvert_exporter": "python",
   "file_extension": ".py"
  },
  "kernelspec": {
   "name": "python3",
   "display_name": "Python 3.8.8 64-bit ('base': conda)"
  },
  "interpreter": {
   "hash": "617bb93b2cba7a7d5da3cdc97e85f36e8c01d33b89623e5898d6d1574fb0a248"
  }
 },
 "nbformat": 4,
 "nbformat_minor": 2
}