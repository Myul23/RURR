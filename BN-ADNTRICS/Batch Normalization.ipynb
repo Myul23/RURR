{
 "cells": [
  {
   "cell_type": "markdown",
   "metadata": {},
   "source": [
    "definition batch normalization layer\n",
    "\n",
    "- [TensorFlow](https://www.tensorflow.org/api_docs)\n",
    "- Layer 구성 참고: [TensorFlow's 사용자 정의 층](https://www.tensorflow.org/tutorials/customization/custom_layers?hl=ko), [TensorFlow's 하위 클래스화를 통한 새로운 레이어 및 모델 만들기](https://www.tensorflow.org/guide/keras/custom_layers_and_models?hl=ko)\n",
    "- 구성 함수 참고: [TensorFlow numpy.append](https://www.tensorflow.org/api_docs/python/tf/experimental/numpy/append), [W3cubDocs](https://docs.w3cub.com/tensorflow~python/tf/keras/backend/std)\n",
    "- [뉴런층의 출력 확인하기](https://codetorial.net/tensorflow/get_output_of_neuron_layers.html)\n",
    "\n",
    "<br />\n",
    "\n",
    "- 현재는 batch에 정규화만 진행했기 때문에, test할 때 이전 값들을 이용하는 것 없음.\n",
    "- channel에 대한 정규화 값을 확인하지 않았음. (그래서 연산 안 될 수도)"
   ]
  },
  {
   "cell_type": "code",
   "execution_count": 1,
   "metadata": {},
   "outputs": [],
   "source": [
    "# data for check\n",
    "import numpy as np\n",
    "from tensorflow.keras.datasets.mnist import load_data\n",
    "\n",
    "# model\n",
    "import tensorflow as tf\n",
    "from tensorflow.keras.models import Sequential\n",
    "from tensorflow.keras.layers import Input, Layer, Conv2D, Flatten, Dense\n",
    "from tensorflow.keras.backend import mean, std\n",
    "from tensorflow.keras.callbacks import EarlyStopping\n",
    "\n",
    "# visualization\n",
    "import matplotlib.pyplot as plt"
   ]
  },
  {
   "cell_type": "markdown",
   "metadata": {},
   "source": [
    "### load data"
   ]
  },
  {
   "cell_type": "code",
   "execution_count": 2,
   "metadata": {},
   "outputs": [],
   "source": [
    "(train, trainl), (test, testl) = load_data()"
   ]
  },
  {
   "cell_type": "code",
   "execution_count": 3,
   "metadata": {},
   "outputs": [],
   "source": [
    "train = (train.astype(\"float32\") / 255.0).reshape((len(train), len(test[0]), len(test[1]), -1))\n",
    "test = (test.astype(\"float32\") / 255.0).reshape((len(test), len(test[0]), len(test[1]), -1))"
   ]
  },
  {
   "cell_type": "code",
   "execution_count": 4,
   "metadata": {},
   "outputs": [
    {
     "data": {
      "text/plain": [
       "<matplotlib.image.AxesImage at 0x1b40e6be6a0>"
      ]
     },
     "execution_count": 4,
     "metadata": {},
     "output_type": "execute_result"
    },
    {
     "data": {
      "image/png": "[encoded data removed]",
      "text/plain": [
       "<Figure size 432x288 with 1 Axes>"
      ]
     },
     "metadata": {
      "needs_background": "light"
     },
     "output_type": "display_data"
    }
   ],
   "source": [
    "plt.imshow(train[0])"
   ]
  },
  {
   "cell_type": "markdown",
   "metadata": {},
   "source": [
    "### make custom layer"
   ]
  },
  {
   "cell_type": "code",
   "execution_count": 5,
   "metadata": {},
   "outputs": [],
   "source": [
    "tf.config.run_functions_eagerly(True)\n",
    "checks = []\n",
    "class batch_normalization(Layer):\n",
    "    def __init__(self, num_outputs):\n",
    "        super(batch_normalization, self).__init__()\n",
    "        self.num_outputs = num_outputs\n",
    "\n",
    "    def build(self, input_shape):\n",
    "        self.kernel = self.add_weight(\"kernel\", shape=[int(input_shape[-1]), self.num_outputs])\n",
    "\n",
    "    def call(self, inputs):\n",
    "        d_mean = mean(inputs)\n",
    "        d_std = std(inputs)\n",
    "        checks.append((d_mean, d_std))\n",
    "\n",
    "        hiddens = (inputs - d_mean) / d_std\n",
    "        return tf.matmul(hiddens, self.kernel)"
   ]
  },
  {
   "cell_type": "markdown",
   "metadata": {},
   "source": [
    "### build model"
   ]
  },
  {
   "cell_type": "markdown",
   "metadata": {},
   "source": [
    "#### w/o"
   ]
  },
  {
   "cell_type": "code",
   "execution_count": 6,
   "metadata": {},
   "outputs": [],
   "source": [
    "np.random.seed(3)\n",
    "tf.random.set_seed(3)"
   ]
  },
  {
   "cell_type": "code",
   "execution_count": 7,
   "metadata": {},
   "outputs": [],
   "source": [
    "wo_early = EarlyStopping(monitor=\"val_loss\", patience=5)"
   ]
  },
  {
   "cell_type": "code",
   "execution_count": 8,
   "metadata": {},
   "outputs": [],
   "source": [
    "wo_model = Sequential()\n",
    "wo_model.add(Conv2D(32, kernel_size=3, input_shape=(28, 28, 1), activation=\"relu\"))\n",
    "wo_model.add(Conv2D(16, kernel_size=3, activation=\"relu\"))\n",
    "wo_model.add(Flatten())\n",
    "wo_model.add(Dense(10, activation=\"softmax\"))"
   ]
  },
  {
   "cell_type": "code",
   "execution_count": 9,
   "metadata": {},
   "outputs": [],
   "source": [
    "wo_model.compile(loss=\"sparse_categorical_crossentropy\", optimizer=\"adam\", metrics=[\"accuracy\"])"
   ]
  },
  {
   "cell_type": "code",
   "execution_count": 10,
   "metadata": {},
   "outputs": [
    {
     "name": "stderr",
     "output_type": "stream",
     "text": [
      "X:\\Program Files\\Anaconda3\\lib\\site-packages\\tensorflow\\python\\data\\ops\\dataset_ops.py:4211: UserWarning: Even though the `tf.config.experimental_run_functions_eagerly` option is set, this option does not apply to tf.data functions. To force eager execution of tf.data functions, please use `tf.data.experimental.enable_debug_mode()`.\n",
      "  warnings.warn(\n"
     ]
    },
    {
     "name": "stdout",
     "output_type": "stream",
     "text": [
      "Epoch 1/30\n",
      "420/420 [==============================] - 10s 15ms/step - loss: 0.2659 - accuracy: 0.9242 - val_loss: 0.1065 - val_accuracy: 0.9693\n",
      "Epoch 2/30\n",
      "420/420 [==============================] - 6s 15ms/step - loss: 0.0804 - accuracy: 0.9767 - val_loss: 0.0763 - val_accuracy: 0.9776\n",
      "Epoch 3/30\n",
      "420/420 [==============================] - 6s 15ms/step - loss: 0.0572 - accuracy: 0.9824 - val_loss: 0.0768 - val_accuracy: 0.9775\n",
      "Epoch 4/30\n",
      "420/420 [==============================] - 6s 15ms/step - loss: 0.0432 - accuracy: 0.9866 - val_loss: 0.0692 - val_accuracy: 0.9788\n",
      "Epoch 5/30\n",
      "420/420 [==============================] - 6s 15ms/step - loss: 0.0340 - accuracy: 0.9897 - val_loss: 0.0691 - val_accuracy: 0.9812\n",
      "Epoch 6/30\n",
      "420/420 [==============================] - 6s 15ms/step - loss: 0.0254 - accuracy: 0.9921 - val_loss: 0.0726 - val_accuracy: 0.9805\n",
      "Epoch 7/30\n",
      "420/420 [==============================] - 6s 15ms/step - loss: 0.0223 - accuracy: 0.9930 - val_loss: 0.0696 - val_accuracy: 0.9815\n",
      "Epoch 8/30\n",
      "420/420 [==============================] - 6s 15ms/step - loss: 0.0181 - accuracy: 0.9940 - val_loss: 0.0772 - val_accuracy: 0.9803\n",
      "Epoch 9/30\n",
      "420/420 [==============================] - 6s 15ms/step - loss: 0.0134 - accuracy: 0.9957 - val_loss: 0.0800 - val_accuracy: 0.9811\n",
      "Epoch 10/30\n",
      "420/420 [==============================] - 6s 15ms/step - loss: 0.0122 - accuracy: 0.9961 - val_loss: 0.0786 - val_accuracy: 0.9828\n"
     ]
    }
   ],
   "source": [
    "wo_history = wo_model.fit(train, trainl, validation_split=0.3, batch_size=100, epochs=30, callbacks=[wo_early])"
   ]
  },
  {
   "cell_type": "markdown",
   "metadata": {},
   "source": [
    "#### with custom"
   ]
  },
  {
   "cell_type": "code",
   "execution_count": 11,
   "metadata": {},
   "outputs": [],
   "source": [
    "np.random.seed(3)\n",
    "tf.random.set_seed(3)"
   ]
  },
  {
   "cell_type": "code",
   "execution_count": 12,
   "metadata": {},
   "outputs": [],
   "source": [
    "early = EarlyStopping(monitor=\"val_loss\", patience=5)"
   ]
  },
  {
   "cell_type": "code",
   "execution_count": 13,
   "metadata": {},
   "outputs": [],
   "source": [
    "model = Sequential()\n",
    "model.add(Conv2D(32, kernel_size=3, input_shape=(28, 28, 1), activation=\"relu\"))\n",
    "model.add(batch_normalization(32))\n",
    "model.add(Conv2D(16, kernel_size=3, activation=\"relu\"))\n",
    "model.add(Flatten())\n",
    "model.add(Dense(10, activation=\"softmax\"))"
   ]
  },
  {
   "cell_type": "code",
   "execution_count": 14,
   "metadata": {},
   "outputs": [
    {
     "name": "stdout",
     "output_type": "stream",
     "text": [
      "Model: \"sequential_1\"\n",
      "_________________________________________________________________\n",
      "Layer (type)                 Output Shape              Param #   \n",
      "=================================================================\n",
      "conv2d_2 (Conv2D)            (None, 26, 26, 32)        320       \n",
      "_________________________________________________________________\n",
      "batch_normalization (batch_n (None, 26, 26, 32)        1024      \n",
      "_________________________________________________________________\n",
      "conv2d_3 (Conv2D)            (None, 24, 24, 16)        4624      \n",
      "_________________________________________________________________\n",
      "flatten_1 (Flatten)          (None, 9216)              0         \n",
      "_________________________________________________________________\n",
      "dense_1 (Dense)              (None, 10)                92170     \n",
      "=================================================================\n",
      "Total params: 98,138\n",
      "Trainable params: 98,138\n",
      "Non-trainable params: 0\n",
      "_________________________________________________________________\n"
     ]
    }
   ],
   "source": [
    "model.summary()"
   ]
  },
  {
   "cell_type": "code",
   "execution_count": 15,
   "metadata": {},
   "outputs": [],
   "source": [
    "model.compile(loss=\"sparse_categorical_crossentropy\", optimizer=\"adam\", metrics=[\"accuracy\"])"
   ]
  },
  {
   "cell_type": "code",
   "execution_count": 16,
   "metadata": {},
   "outputs": [
    {
     "name": "stdout",
     "output_type": "stream",
     "text": [
      "Epoch 1/30\n",
      "420/420 [==============================] - 8s 19ms/step - loss: 0.1908 - accuracy: 0.9448 - val_loss: 0.0886 - val_accuracy: 0.9735\n",
      "Epoch 2/30\n",
      "420/420 [==============================] - 8s 19ms/step - loss: 0.0630 - accuracy: 0.9811 - val_loss: 0.0749 - val_accuracy: 0.9775\n",
      "Epoch 3/30\n",
      "420/420 [==============================] - 8s 19ms/step - loss: 0.0401 - accuracy: 0.9870 - val_loss: 0.0809 - val_accuracy: 0.9762\n",
      "Epoch 4/30\n",
      "420/420 [==============================] - 8s 19ms/step - loss: 0.0309 - accuracy: 0.9894 - val_loss: 0.0875 - val_accuracy: 0.9768\n",
      "Epoch 5/30\n",
      "420/420 [==============================] - 8s 19ms/step - loss: 0.0212 - accuracy: 0.9924 - val_loss: 0.0940 - val_accuracy: 0.9786\n",
      "Epoch 6/30\n",
      "420/420 [==============================] - 8s 19ms/step - loss: 0.0162 - accuracy: 0.9946 - val_loss: 0.0947 - val_accuracy: 0.9782\n",
      "Epoch 7/30\n",
      "420/420 [==============================] - 8s 19ms/step - loss: 0.0140 - accuracy: 0.9948 - val_loss: 0.1063 - val_accuracy: 0.9781\n"
     ]
    }
   ],
   "source": [
    "history = model.fit(train, trainl, validation_split=0.3, batch_size=100, epochs=30, callbacks=[early])"
   ]
  },
  {
   "cell_type": "markdown",
   "metadata": {},
   "source": [
    "### result"
   ]
  },
  {
   "cell_type": "code",
   "execution_count": 17,
   "metadata": {},
   "outputs": [
    {
     "data": {
      "image/png": "[encoded data removed]",
      "text/plain": [
       "<Figure size 1440x504 with 2 Axes>"
      ]
     },
     "metadata": {
      "needs_background": "light"
     },
     "output_type": "display_data"
    }
   ],
   "source": [
    "fig, ax = plt.subplots(1, 2, figsize=(20, 7))\n",
    "\n",
    "ax[0].plot(wo_history.epoch, wo_history.history[\"loss\"], c=\"blue\", label=\"w/o train loss\")\n",
    "ax[0].plot(wo_history.epoch, wo_history.history[\"val_loss\"], c=\"lightblue\", label=\"w/o val loss\")\n",
    "\n",
    "ax[0].plot(history.epoch, history.history[\"loss\"], c=\"green\", label=\"with train loss\")\n",
    "ax[0].plot(history.epoch, history.history[\"val_loss\"], c=\"lightgreen\", label=\"with val loss\")\n",
    "\n",
    "ax[1].plot([c[0].numpy() for c in checks[1:]], label=\"mean\")\n",
    "ax[1].plot([c[1].numpy() for c in checks[1:]], label=\"std\")\n",
    "\n",
    "for i in range(2):\n",
    "    ax[i].legend(loc=\"best\")\n",
    "plt.show()"
   ]
  },
  {
   "cell_type": "code",
   "execution_count": 18,
   "metadata": {},
   "outputs": [
    {
     "name": "stdout",
     "output_type": "stream",
     "text": [
      "313/313 [==============================] - 2s 7ms/step - loss: 0.0646 - accuracy: 0.9853\n",
      "313/313 [==============================] - 2s 7ms/step - loss: 0.0776 - accuracy: 0.9807\n",
      "w/o Accuracy:\t0.9853\n",
      "with Accuracy:\t0.9807\n"
     ]
    }
   ],
   "source": [
    "print(\"w/o Accuracy:\\t%.4f\" % wo_model.evaluate(test, testl)[1],\n",
    "      \"with Accuracy:\\t%.4f\" % model.evaluate(test, testl)[1], sep=\"\\n\")"
   ]
  },
  {
   "cell_type": "markdown",
   "metadata": {},
   "source": [
    "<!-- <img src=\"before_output.png\" /> -->\n",
    "\n",
    "|  | without | with (custom)\n",
    ":-:|:-:|:-:|\n",
    "걸린 시간 | 1분 7.3초 (10 epoch) | 55.9초 (7 epoch) | <!-- 3분 4.9초 | 3분 50.1초 -->\n",
    "초기 loss / val loss | 0.2659 / 0.1064 | 0.1908 / 0.0906\n",
    "test accuracy | 0.9853 | 0.9807 | <!-- 0.9866 | 0.9811 -->\n",
    "\n",
    "- 더 빠르게 수렴, 더 나은 loss 값으로 수렴한다는 측면에서 (제대로 만든 건지는 모르겠지만) batch normalization이 효과가 있어 보임.\n",
    "- best 모델을 기준으로 하면 custom layer를 가진 모델이 train loss, validation loss 모두 작아서 test accuracy가 더 나아질 가능성이 있어 보임.\n",
    "<!-- - 사실 지금 batch size 작아보임. -->"
   ]
  }
 ],
 "metadata": {
  "interpreter": {
   "hash": "617bb93b2cba7a7d5da3cdc97e85f36e8c01d33b89623e5898d6d1574fb0a248"
  },
  "kernelspec": {
   "display_name": "Python 3.8.8 64-bit ('base': conda)",
   "name": "python3"
  },
  "language_info": {
   "codemirror_mode": {
    "name": "ipython",
    "version": 3
   },
   "file_extension": ".py",
   "mimetype": "text/x-python",
   "name": "python",
   "nbconvert_exporter": "python",
   "pygments_lexer": "ipython3",
   "version": "3.8.8"
  },
  "orig_nbformat": 4
 },
 "nbformat": 4,
 "nbformat_minor": 2
}
