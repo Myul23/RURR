{
 "cells": [
  {
   "cell_type": "markdown",
   "metadata": {},
   "source": [
    "- [Generative Adversarial Networks](https://arxiv.org/abs/1406.2661)\n",
    "- Code: [ndb's Generative Adversarial Nets](https://github.com/ndb796/Deep-Learning-Paper-Review-and-Practice/blob/master/code_practices/GAN_for_MNIST_Tutorial.ipynb)"
   ]
  },
  {
   "cell_type": "code",
   "execution_count": 1,
   "metadata": {},
   "outputs": [],
   "source": [
    "# import time\n",
    "\n",
    "import numpy as np\n",
    "\n",
    "# for data\n",
    "from torch.utils.data import DataLoader\n",
    "from torchvision.datasets import MNIST\n",
    "\n",
    "from torchvision.transforms import Compose, Resize, ToTensor, Normalize\n",
    "from torch import normal\n",
    "\n",
    "# model\n",
    "from torch.cuda import FloatTensor\n",
    "from torch.nn import Module, Sequential, Linear, BatchNorm1d, Sigmoid, LeakyReLU, Tanh, BCELoss\n",
    "from torch.optim import Adam\n",
    "\n",
    "import matplotlib.pyplot as plt\n",
    "from torchvision.utils import save_image"
   ]
  },
  {
   "cell_type": "markdown",
   "metadata": {},
   "source": [
    "### data"
   ]
  },
  {
   "cell_type": "code",
   "execution_count": 2,
   "metadata": {},
   "outputs": [],
   "source": [
    "transform_train = Compose([\n",
    "    Resize(28),\n",
    "    ToTensor(),\n",
    "    Normalize([0.5], [0.5])\n",
    "])"
   ]
  },
  {
   "cell_type": "markdown",
   "metadata": {},
   "source": [
    "전처린 거 같은데, torch 공부하려면 tensor 연산 전 후 나눠서 공부해야 겠네."
   ]
  },
  {
   "cell_type": "code",
   "execution_count": 3,
   "metadata": {},
   "outputs": [
    {
     "name": "stderr",
     "output_type": "stream",
     "text": [
      "X:\\Program Files\\Anaconda3\\lib\\site-packages\\torchvision\\datasets\\mnist.py:498: UserWarning: The given NumPy array is not writeable, and PyTorch does not support non-writeable tensors. This means you can write to the underlying (supposedly non-writeable) NumPy array using the tensor. You may want to copy the array to protect its data or make it writeable before converting it to a tensor. This type of warning will be suppressed for the rest of this program. (Triggered internally at  ..\\torch\\csrc\\utils\\tensor_numpy.cpp:180.)\n",
      "  return torch.from_numpy(parsed.astype(m[2], copy=False)).view(*s)\n"
     ]
    }
   ],
   "source": [
    "train_dataset = MNIST(root=\"./data\", train=True, download=False, transform=transform_train)"
   ]
  },
  {
   "cell_type": "code",
   "execution_count": 4,
   "metadata": {},
   "outputs": [],
   "source": [
    "dataloader = DataLoader(train_dataset, batch_size=128, shuffle=True, num_workers=4)"
   ]
  },
  {
   "cell_type": "markdown",
   "metadata": {},
   "source": [
    "## model"
   ]
  },
  {
   "cell_type": "code",
   "execution_count": 5,
   "metadata": {},
   "outputs": [],
   "source": [
    "latent_dim = 100"
   ]
  },
  {
   "cell_type": "markdown",
   "metadata": {},
   "source": [
    "### Generator"
   ]
  },
  {
   "cell_type": "code",
   "execution_count": 6,
   "metadata": {},
   "outputs": [],
   "source": [
    "class Generator(Module):\n",
    "    def __init__(self):\n",
    "        super(Generator, self).__init__()\n",
    "\n",
    "        def block(input_dim, output_dim, normalize=True):\n",
    "            layers = [Linear(input_dim, output_dim)]\n",
    "            if normalize:\n",
    "                layers.append(BatchNorm1d(output_dim, 0.8))\n",
    "            layers.append(LeakyReLU(0.2, inplace=True))\n",
    "            return layers\n",
    "\n",
    "        self.model = Sequential(\n",
    "            *block(latent_dim, 128, normalize=False),\n",
    "            *block(128, 256),\n",
    "            *block(256, 512),\n",
    "            *block(512, 1024),\n",
    "            Linear(1024, 1 * 28 * 28),\n",
    "            Tanh()\n",
    "        )\n",
    "\n",
    "    def forward(self, z):\n",
    "        img = self.model(z)\n",
    "        img = img.view(img.size(0), 1, 28, 28)\n",
    "        return img"
   ]
  },
  {
   "cell_type": "markdown",
   "metadata": {},
   "source": [
    "### Discriminator"
   ]
  },
  {
   "cell_type": "code",
   "execution_count": 7,
   "metadata": {},
   "outputs": [],
   "source": [
    "class Discriminator(Module):\n",
    "    def __init__(self):\n",
    "        super(Discriminator, self).__init__()\n",
    "\n",
    "        self.model = Sequential(\n",
    "            Linear(1 * 28 * 28, 512),\n",
    "            LeakyReLU(0.2, inplace=True),\n",
    "            Linear(512, 256),\n",
    "            LeakyReLU(0.2, inplace=True),\n",
    "            Linear(256, 1),\n",
    "            Sigmoid()\n",
    "        )\n",
    "\n",
    "    def forward(self, img):\n",
    "        flattened = img.view(img.size(0), -1)\n",
    "        output = self.model(flattened)\n",
    "        return output"
   ]
  },
  {
   "cell_type": "markdown",
   "metadata": {},
   "source": [
    "### Connect"
   ]
  },
  {
   "cell_type": "code",
   "execution_count": 8,
   "metadata": {},
   "outputs": [],
   "source": [
    "lr = 0.0002"
   ]
  },
  {
   "cell_type": "code",
   "execution_count": 9,
   "metadata": {},
   "outputs": [],
   "source": [
    "generator = Generator()\n",
    "generator.cuda()\n",
    "optimizer_G = Adam(generator.parameters(), lr=lr, betas=(0.5, 0.999))"
   ]
  },
  {
   "cell_type": "code",
   "execution_count": 10,
   "metadata": {},
   "outputs": [],
   "source": [
    "discriminator = Discriminator()\n",
    "discriminator.cuda()\n",
    "optimizer_D = Adam(discriminator.parameters(), lr=lr, betas=(0.5, 0.999))"
   ]
  },
  {
   "cell_type": "code",
   "execution_count": 11,
   "metadata": {},
   "outputs": [
    {
     "data": {
      "text/plain": [
       "BCELoss()"
      ]
     },
     "execution_count": 11,
     "metadata": {},
     "output_type": "execute_result"
    }
   ],
   "source": [
    "adversarial_loss = BCELoss()\n",
    "# Binary Cross Entropy\n",
    "adversarial_loss.cuda()"
   ]
  },
  {
   "cell_type": "markdown",
   "metadata": {},
   "source": [
    "## train"
   ]
  },
  {
   "cell_type": "code",
   "execution_count": 12,
   "metadata": {},
   "outputs": [
    {
     "name": "stdout",
     "output_type": "stream",
     "text": [
      "[Epoch   0/200] [D loss: 0.497175] [G loss: 0.625260]\n",
      "[Epoch   1/200] [D loss: 0.361471] [G loss: 1.554101]\n",
      "[Epoch   2/200] [D loss: 0.379129] [G loss: 1.118365]\n",
      "[Epoch   3/200] [D loss: 0.282575] [G loss: 1.019792]\n",
      "[Epoch   4/200] [D loss: 0.224965] [G loss: 1.889806]\n",
      "[Epoch   5/200] [D loss: 0.203131] [G loss: 1.756845]\n",
      "[Epoch   6/200] [D loss: 0.387102] [G loss: 0.960950]\n",
      "[Epoch   7/200] [D loss: 0.252450] [G loss: 1.812878]\n",
      "[Epoch   8/200] [D loss: 0.376844] [G loss: 1.573439]\n",
      "[Epoch   9/200] [D loss: 0.265335] [G loss: 1.434571]\n",
      "[Epoch  10/200] [D loss: 0.183607] [G loss: 1.660473]\n",
      "[Epoch  11/200] [D loss: 0.245278] [G loss: 1.142408]\n",
      "[Epoch  12/200] [D loss: 0.295012] [G loss: 1.467185]\n",
      "[Epoch  13/200] [D loss: 0.504950] [G loss: 0.665888]\n",
      "[Epoch  14/200] [D loss: 0.249229] [G loss: 2.373088]\n",
      "[Epoch  15/200] [D loss: 0.266148] [G loss: 1.305344]\n",
      "[Epoch  16/200] [D loss: 0.247318] [G loss: 1.269084]\n",
      "[Epoch  17/200] [D loss: 0.298759] [G loss: 1.716876]\n",
      "[Epoch  18/200] [D loss: 0.139501] [G loss: 1.984487]\n",
      "[Epoch  19/200] [D loss: 0.274028] [G loss: 1.317402]\n",
      "[Epoch  20/200] [D loss: 0.302231] [G loss: 1.121585]\n",
      "[Epoch  21/200] [D loss: 0.348094] [G loss: 2.268519]\n",
      "[Epoch  22/200] [D loss: 0.284479] [G loss: 3.335560]\n",
      "[Epoch  23/200] [D loss: 0.213627] [G loss: 1.694047]\n",
      "[Epoch  24/200] [D loss: 0.241175] [G loss: 1.916964]\n",
      "[Epoch  25/200] [D loss: 0.297008] [G loss: 1.374065]\n",
      "[Epoch  26/200] [D loss: 0.310164] [G loss: 1.073066]\n",
      "[Epoch  27/200] [D loss: 0.306556] [G loss: 2.623293]\n",
      "[Epoch  28/200] [D loss: 0.229095] [G loss: 1.944964]\n",
      "[Epoch  29/200] [D loss: 0.220421] [G loss: 2.461821]\n",
      "[Epoch  30/200] [D loss: 0.192186] [G loss: 1.871890]\n",
      "[Epoch  31/200] [D loss: 0.208250] [G loss: 2.748159]\n",
      "[Epoch  32/200] [D loss: 0.224398] [G loss: 2.668332]\n",
      "[Epoch  33/200] [D loss: 0.290717] [G loss: 2.130740]\n",
      "[Epoch  34/200] [D loss: 0.250934] [G loss: 1.574671]\n",
      "[Epoch  35/200] [D loss: 0.262312] [G loss: 2.208536]\n",
      "[Epoch  36/200] [D loss: 0.197673] [G loss: 1.895480]\n",
      "[Epoch  37/200] [D loss: 0.294516] [G loss: 2.181302]\n",
      "[Epoch  38/200] [D loss: 0.245380] [G loss: 2.573695]\n",
      "[Epoch  39/200] [D loss: 0.337008] [G loss: 1.178229]\n",
      "[Epoch  40/200] [D loss: 0.296698] [G loss: 2.642818]\n",
      "[Epoch  41/200] [D loss: 0.308627] [G loss: 1.268547]\n",
      "[Epoch  42/200] [D loss: 0.311943] [G loss: 2.093838]\n",
      "[Epoch  43/200] [D loss: 0.307687] [G loss: 1.428997]\n",
      "[Epoch  44/200] [D loss: 0.319478] [G loss: 1.411019]\n",
      "[Epoch  45/200] [D loss: 0.444085] [G loss: 0.983452]\n",
      "[Epoch  46/200] [D loss: 0.397298] [G loss: 0.911116]\n",
      "[Epoch  47/200] [D loss: 0.267342] [G loss: 1.530210]\n",
      "[Epoch  48/200] [D loss: 0.814881] [G loss: 4.512953]\n",
      "[Epoch  49/200] [D loss: 0.373309] [G loss: 1.550102]\n",
      "[Epoch  50/200] [D loss: 0.443622] [G loss: 1.011712]\n",
      "[Epoch  51/200] [D loss: 0.296762] [G loss: 1.562133]\n",
      "[Epoch  52/200] [D loss: 0.292969] [G loss: 1.268963]\n",
      "[Epoch  53/200] [D loss: 0.226794] [G loss: 1.998886]\n",
      "[Epoch  54/200] [D loss: 0.323729] [G loss: 1.559914]\n",
      "[Epoch  55/200] [D loss: 0.222467] [G loss: 1.945803]\n",
      "[Epoch  56/200] [D loss: 0.312858] [G loss: 3.032782]\n",
      "[Epoch  57/200] [D loss: 0.427541] [G loss: 1.194660]\n",
      "[Epoch  58/200] [D loss: 0.251282] [G loss: 1.839653]\n",
      "[Epoch  59/200] [D loss: 0.292131] [G loss: 1.448286]\n",
      "[Epoch  60/200] [D loss: 0.356431] [G loss: 1.121007]\n",
      "[Epoch  61/200] [D loss: 0.353391] [G loss: 2.382149]\n",
      "[Epoch  62/200] [D loss: 0.286389] [G loss: 2.182740]\n",
      "[Epoch  63/200] [D loss: 0.294026] [G loss: 1.952710]\n",
      "[Epoch  64/200] [D loss: 0.462364] [G loss: 3.255351]\n",
      "[Epoch  65/200] [D loss: 0.318284] [G loss: 2.824631]\n",
      "[Epoch  66/200] [D loss: 0.305450] [G loss: 1.906228]\n",
      "[Epoch  67/200] [D loss: 0.295902] [G loss: 2.495832]\n",
      "[Epoch  68/200] [D loss: 0.243609] [G loss: 1.913385]\n",
      "[Epoch  69/200] [D loss: 0.365835] [G loss: 2.774539]\n",
      "[Epoch  70/200] [D loss: 0.275520] [G loss: 1.919005]\n",
      "[Epoch  71/200] [D loss: 0.317581] [G loss: 2.270680]\n",
      "[Epoch  72/200] [D loss: 0.322135] [G loss: 2.094168]\n",
      "[Epoch  73/200] [D loss: 0.403373] [G loss: 3.214219]\n",
      "[Epoch  74/200] [D loss: 0.322954] [G loss: 1.169939]\n",
      "[Epoch  75/200] [D loss: 0.226450] [G loss: 2.050874]\n",
      "[Epoch  76/200] [D loss: 0.571738] [G loss: 3.559589]\n",
      "[Epoch  77/200] [D loss: 0.332827] [G loss: 1.514563]\n",
      "[Epoch  78/200] [D loss: 0.258796] [G loss: 2.949279]\n",
      "[Epoch  79/200] [D loss: 0.292676] [G loss: 1.436519]\n",
      "[Epoch  80/200] [D loss: 0.365139] [G loss: 1.078159]\n",
      "[Epoch  81/200] [D loss: 0.289662] [G loss: 1.782065]\n",
      "[Epoch  82/200] [D loss: 0.241723] [G loss: 1.698872]\n",
      "[Epoch  83/200] [D loss: 0.330419] [G loss: 1.647735]\n",
      "[Epoch  84/200] [D loss: 0.309854] [G loss: 1.420557]\n",
      "[Epoch  85/200] [D loss: 0.205864] [G loss: 2.366591]\n",
      "[Epoch  86/200] [D loss: 0.220513] [G loss: 2.088883]\n",
      "[Epoch  87/200] [D loss: 0.352889] [G loss: 2.010487]\n",
      "[Epoch  88/200] [D loss: 0.313336] [G loss: 1.745844]\n",
      "[Epoch  89/200] [D loss: 0.248069] [G loss: 1.933978]\n",
      "[Epoch  90/200] [D loss: 0.337437] [G loss: 2.920866]\n",
      "[Epoch  91/200] [D loss: 0.276949] [G loss: 1.655399]\n",
      "[Epoch  92/200] [D loss: 0.241376] [G loss: 1.542465]\n",
      "[Epoch  93/200] [D loss: 0.325692] [G loss: 3.198792]\n",
      "[Epoch  94/200] [D loss: 0.230640] [G loss: 1.675059]\n",
      "[Epoch  95/200] [D loss: 0.230522] [G loss: 2.361607]\n",
      "[Epoch  96/200] [D loss: 0.197620] [G loss: 2.450621]\n",
      "[Epoch  97/200] [D loss: 0.224923] [G loss: 2.394636]\n",
      "[Epoch  98/200] [D loss: 0.201239] [G loss: 2.500444]\n",
      "[Epoch  99/200] [D loss: 0.279439] [G loss: 2.253847]\n",
      "[Epoch 100/200] [D loss: 0.216730] [G loss: 2.261056]\n",
      "[Epoch 101/200] [D loss: 0.359675] [G loss: 2.343691]\n",
      "[Epoch 102/200] [D loss: 0.336071] [G loss: 1.903082]\n",
      "[Epoch 103/200] [D loss: 0.307744] [G loss: 1.374961]\n",
      "[Epoch 104/200] [D loss: 0.213493] [G loss: 2.162967]\n",
      "[Epoch 105/200] [D loss: 0.247745] [G loss: 1.884841]\n",
      "[Epoch 106/200] [D loss: 0.272282] [G loss: 1.672637]\n",
      "[Epoch 107/200] [D loss: 0.210850] [G loss: 2.180359]\n",
      "[Epoch 108/200] [D loss: 0.257666] [G loss: 2.612417]\n",
      "[Epoch 109/200] [D loss: 0.236414] [G loss: 1.876467]\n",
      "[Epoch 110/200] [D loss: 0.321890] [G loss: 2.923717]\n",
      "[Epoch 111/200] [D loss: 0.294743] [G loss: 2.350442]\n",
      "[Epoch 112/200] [D loss: 0.349167] [G loss: 1.537564]\n",
      "[Epoch 113/200] [D loss: 0.481006] [G loss: 4.527171]\n",
      "[Epoch 114/200] [D loss: 0.312904] [G loss: 3.147996]\n",
      "[Epoch 115/200] [D loss: 0.281714] [G loss: 1.418985]\n",
      "[Epoch 116/200] [D loss: 0.228311] [G loss: 2.609792]\n",
      "[Epoch 117/200] [D loss: 0.357361] [G loss: 2.431198]\n",
      "[Epoch 118/200] [D loss: 0.302954] [G loss: 1.685224]\n",
      "[Epoch 119/200] [D loss: 0.265257] [G loss: 2.049509]\n",
      "[Epoch 120/200] [D loss: 0.269691] [G loss: 1.947133]\n",
      "[Epoch 121/200] [D loss: 0.271124] [G loss: 2.115242]\n",
      "[Epoch 122/200] [D loss: 0.339777] [G loss: 1.425566]\n",
      "[Epoch 123/200] [D loss: 0.276868] [G loss: 1.836864]\n",
      "[Epoch 124/200] [D loss: 0.295778] [G loss: 2.343930]\n",
      "[Epoch 125/200] [D loss: 0.261735] [G loss: 1.725601]\n",
      "[Epoch 126/200] [D loss: 0.221329] [G loss: 2.354271]\n",
      "[Epoch 127/200] [D loss: 0.313123] [G loss: 1.385376]\n",
      "[Epoch 128/200] [D loss: 0.281244] [G loss: 1.671131]\n",
      "[Epoch 129/200] [D loss: 0.245946] [G loss: 2.362330]\n",
      "[Epoch 130/200] [D loss: 0.463702] [G loss: 4.193759]\n",
      "[Epoch 131/200] [D loss: 0.267617] [G loss: 1.482246]\n",
      "[Epoch 132/200] [D loss: 0.289584] [G loss: 2.025060]\n",
      "[Epoch 133/200] [D loss: 0.290337] [G loss: 2.339924]\n",
      "[Epoch 134/200] [D loss: 0.313996] [G loss: 3.745732]\n",
      "[Epoch 135/200] [D loss: 0.291068] [G loss: 1.954553]\n",
      "[Epoch 136/200] [D loss: 0.241929] [G loss: 1.986650]\n",
      "[Epoch 137/200] [D loss: 0.264578] [G loss: 1.978787]\n",
      "[Epoch 138/200] [D loss: 0.222289] [G loss: 2.060253]\n",
      "[Epoch 139/200] [D loss: 0.213649] [G loss: 2.124269]\n",
      "[Epoch 140/200] [D loss: 0.198531] [G loss: 2.082168]\n",
      "[Epoch 141/200] [D loss: 0.279844] [G loss: 2.053005]\n",
      "[Epoch 142/200] [D loss: 0.266454] [G loss: 1.921445]\n",
      "[Epoch 143/200] [D loss: 0.287440] [G loss: 1.317158]\n",
      "[Epoch 144/200] [D loss: 0.275977] [G loss: 1.807754]\n",
      "[Epoch 145/200] [D loss: 0.270577] [G loss: 2.934762]\n",
      "[Epoch 146/200] [D loss: 0.262975] [G loss: 2.366590]\n",
      "[Epoch 147/200] [D loss: 0.300019] [G loss: 1.949717]\n",
      "[Epoch 148/200] [D loss: 0.278521] [G loss: 2.146380]\n",
      "[Epoch 149/200] [D loss: 0.273062] [G loss: 2.292219]\n",
      "[Epoch 150/200] [D loss: 0.268054] [G loss: 2.978987]\n",
      "[Epoch 151/200] [D loss: 0.263978] [G loss: 2.027425]\n",
      "[Epoch 152/200] [D loss: 0.232080] [G loss: 2.326947]\n",
      "[Epoch 153/200] [D loss: 0.309322] [G loss: 2.476657]\n",
      "[Epoch 154/200] [D loss: 0.317870] [G loss: 3.047628]\n",
      "[Epoch 155/200] [D loss: 0.180831] [G loss: 2.371187]\n",
      "[Epoch 156/200] [D loss: 0.273903] [G loss: 3.327348]\n",
      "[Epoch 157/200] [D loss: 0.235937] [G loss: 2.725806]\n",
      "[Epoch 158/200] [D loss: 0.269693] [G loss: 2.757669]\n",
      "[Epoch 159/200] [D loss: 0.283028] [G loss: 1.909153]\n",
      "[Epoch 160/200] [D loss: 0.252770] [G loss: 2.472677]\n",
      "[Epoch 161/200] [D loss: 0.266522] [G loss: 1.830284]\n",
      "[Epoch 162/200] [D loss: 0.250634] [G loss: 3.134275]\n",
      "[Epoch 163/200] [D loss: 0.308748] [G loss: 2.167214]\n",
      "[Epoch 164/200] [D loss: 0.260837] [G loss: 2.432223]\n",
      "[Epoch 165/200] [D loss: 0.201447] [G loss: 1.833187]\n",
      "[Epoch 166/200] [D loss: 0.241806] [G loss: 1.623429]\n",
      "[Epoch 167/200] [D loss: 0.264703] [G loss: 2.555510]\n",
      "[Epoch 168/200] [D loss: 0.300838] [G loss: 2.745582]\n",
      "[Epoch 169/200] [D loss: 0.221824] [G loss: 1.847880]\n",
      "[Epoch 170/200] [D loss: 0.248281] [G loss: 2.576349]\n",
      "[Epoch 171/200] [D loss: 0.290228] [G loss: 2.753122]\n",
      "[Epoch 172/200] [D loss: 0.342666] [G loss: 1.414846]\n",
      "[Epoch 173/200] [D loss: 0.246457] [G loss: 2.498048]\n",
      "[Epoch 174/200] [D loss: 0.303360] [G loss: 2.500632]\n",
      "[Epoch 175/200] [D loss: 0.300459] [G loss: 2.400282]\n",
      "[Epoch 176/200] [D loss: 0.263017] [G loss: 2.378592]\n",
      "[Epoch 177/200] [D loss: 0.213927] [G loss: 1.890945]\n",
      "[Epoch 178/200] [D loss: 0.233094] [G loss: 1.810442]\n",
      "[Epoch 179/200] [D loss: 0.365108] [G loss: 2.338110]\n",
      "[Epoch 180/200] [D loss: 0.255413] [G loss: 1.718661]\n",
      "[Epoch 181/200] [D loss: 0.288827] [G loss: 2.067729]\n",
      "[Epoch 182/200] [D loss: 0.226387] [G loss: 1.507065]\n",
      "[Epoch 183/200] [D loss: 0.256348] [G loss: 2.182582]\n",
      "[Epoch 184/200] [D loss: 0.230860] [G loss: 2.194064]\n",
      "[Epoch 185/200] [D loss: 0.209514] [G loss: 2.607922]\n",
      "[Epoch 186/200] [D loss: 0.323654] [G loss: 1.775852]\n",
      "[Epoch 187/200] [D loss: 0.338773] [G loss: 3.916656]\n",
      "[Epoch 188/200] [D loss: 0.305742] [G loss: 1.534857]\n",
      "[Epoch 189/200] [D loss: 0.190753] [G loss: 2.069648]\n",
      "[Epoch 190/200] [D loss: 0.283835] [G loss: 2.671857]\n",
      "[Epoch 191/200] [D loss: 0.270780] [G loss: 1.907736]\n",
      "[Epoch 192/200] [D loss: 0.270661] [G loss: 1.885580]\n",
      "[Epoch 193/200] [D loss: 0.250550] [G loss: 2.622224]\n",
      "[Epoch 194/200] [D loss: 0.278278] [G loss: 2.200398]\n",
      "[Epoch 195/200] [D loss: 0.249666] [G loss: 2.540620]\n",
      "[Epoch 196/200] [D loss: 0.289025] [G loss: 1.669038]\n",
      "[Epoch 197/200] [D loss: 0.210487] [G loss: 2.497736]\n",
      "[Epoch 198/200] [D loss: 0.255246] [G loss: 2.763566]\n",
      "[Epoch 199/200] [D loss: 0.277355] [G loss: 1.655710]\n"
     ]
    }
   ],
   "source": [
    "n_epochs = 200\n",
    "sample_interval = 2000\n",
    "# start_time = time.time()\n",
    "history = {\"d_loss\": [], \"g_loss\": []}\n",
    "\n",
    "for epoch in range(n_epochs):\n",
    "    for i, (imgs, _) in enumerate(dataloader):\n",
    "        real_imgs = imgs.cuda()\n",
    "\n",
    "        real = FloatTensor(imgs.size(0), 1).fill_(1.0)\n",
    "        fake = FloatTensor(imgs.size(0), 1).fill_(0.0)\n",
    "\n",
    "        # ? Generator learn\n",
    "        optimizer_G.zero_grad()\n",
    "        # gradient descent를 이용하기 전에 parameter buffer 값을 0으로 초기화하는 듯한 작업\n",
    "        # > autograd의 추적기록을 피하기 위해 학습 가능한 매개변수를 갖는 Tensor를 직접 0으로 조작하여 모델의 가중치를 갱신할 때 사용한다.\n",
    "        # 아예 history tracking을 하지 않으려면 torch.no_grad()를 이용한다.\n",
    "\n",
    "        z = normal(mean=0, std=1, size=(imgs.shape[0], latent_dim)).cuda()\n",
    "        generated = generator(z)\n",
    "        g_loss = adversarial_loss(discriminator(generated), real)\n",
    "\n",
    "        # parameter udpate after calculation of back-propagation\n",
    "        g_loss.backward()\n",
    "        optimizer_G.step()\n",
    "\n",
    "        # ? Discriminator learn\n",
    "        optimizer_D.zero_grad()\n",
    "\n",
    "        real_loss = adversarial_loss(discriminator(real_imgs), real)\n",
    "        fake_loss = adversarial_loss(discriminator(generated.detach()), fake)\n",
    "        d_loss = 0.5 * (real_loss + fake_loss)\n",
    "\n",
    "        d_loss.backward()\n",
    "        optimizer_D.step()\n",
    "\n",
    "        done = epoch * len(dataloader) + i\n",
    "        if done % sample_interval == 0:\n",
    "            save_image(generated.data[:25], f\"{done}.png\", nrow=5, norrmalize=True)\n",
    "\n",
    "    history[\"d_loss\"].append(d_loss)\n",
    "    history[\"g_loss\"].append(g_loss)\n",
    "    print(f\"[Epoch {epoch:3d}/{n_epochs}] [D loss: {d_loss.item():.6f}] [G loss: {g_loss.item():.6f}]\")"
   ]
  },
  {
   "cell_type": "markdown",
   "metadata": {},
   "source": [
    "## drawing"
   ]
  },
  {
   "cell_type": "code",
   "execution_count": 13,
   "metadata": {},
   "outputs": [
    {
     "data": {
      "image/png": "[encoded data removed]",
      "text/plain": [
       "<Figure size 432x288 with 2 Axes>"
      ]
     },
     "metadata": {
      "needs_background": "light"
     },
     "output_type": "display_data"
    }
   ],
   "source": [
    "f, ax = plt.subplots(1, 2, figsize=(10, 6))\n",
    "\n",
    "x_len = np.arange(len(history[\"d_loss\"]))\n",
    "for idx, label in enumerate([\"d_loss\", \"g_loss\"]):\n",
    "    ax[idx].plot(x_len, history[label])\n",
    "    ax[idx].set_title(label + \" graph\")\n",
    "\n",
    "plt.show()"
   ]
  },
  {
   "cell_type": "markdown",
   "metadata": {},
   "source": [
    "이거 안정화 덜 된 것 같은데..? 생성자 loss 증가하는 거 같은데?"
   ]
  }
 ],
 "metadata": {
  "interpreter": {
   "hash": "617bb93b2cba7a7d5da3cdc97e85f36e8c01d33b89623e5898d6d1574fb0a248"
  },
  "kernelspec": {
   "display_name": "Python 3.8.8 64-bit ('base': conda)",
   "name": "python3"
  },
  "language_info": {
   "codemirror_mode": {
    "name": "ipython",
    "version": 3
   },
   "file_extension": ".py",
   "mimetype": "text/x-python",
   "name": "python",
   "nbconvert_exporter": "python",
   "pygments_lexer": "ipython3",
   "version": "3.8.8"
  },
  "orig_nbformat": 4
 },
 "nbformat": 4,
 "nbformat_minor": 2
}
